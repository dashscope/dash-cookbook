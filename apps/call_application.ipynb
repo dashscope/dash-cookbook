{
 "cells": [
  {
   "cell_type": "markdown",
   "id": "f699fee1181b57fb",
   "metadata": {},
   "source": [
    "# 应用调用"
   ]
  },
  {
   "metadata": {},
   "cell_type": "markdown",
   "source": [
    "## 1. 简介\n",
    "本文主要介绍如何通过阿里云百炼创建应用，并通过API或SDK调用应用。\n",
    "\n",
    "### 1.1 功能依赖\n",
    "暂无\n",
    "\n",
    "### 1.2 前期准备\n",
    "* 已开通百炼服务：[开通阿里云百炼大模型服务产品](https://help.aliyun.com/document_detail/2586399.html?spm=a2c4g.2784257.0.i6)。\n",
    "* 已创建和获取API_KEY: [获取API-KEY](https://help.aliyun.com/document_detail/2712195.html)。\n",
    "* 已创建应用: 请参考[阿里云百炼官方文档](https://help.aliyun.com/document_detail/2782159.html?spm=a2c4g.2782133.0.i0)在阿里云百炼控制台的应用中心->我的应用中创建应用。\n",
    "\n",
    "## 2. 代码示例\n",
    "\n",
    "### 2.1 通过HTTP调用应用\n",
    "\n",
    "以下示例展示通过CURL命令来调用应用的脚本。\n",
    "注意: 需要使用您的API-KEY替换示例中的YOUR_API_KEY，并将APP_ID替换示例中的YOUR_APP_ID，代码才能正常运行，APP_ID可以在“我的应用”中查看对应的应用ID。"
   ],
   "id": "4f850afefc5e87ed"
  },
  {
   "cell_type": "code",
   "id": "36b020d35744bb9a",
   "metadata": {},
   "source": [
    "%%bash\n",
    "curl --location 'https://dashscope.aliyuncs.com/api/v1/apps/YOUR_APP_ID/completion' \\\n",
    "--header 'Authorization: Bearer YOUR_API_KEY' \\\n",
    "--header 'Content-Type: application/json' \\\n",
    "--data '{\n",
    "    \"input\": {\n",
    "        \"prompt\": \"如何做土豆炖猪脚?\"\n",
    "    },\n",
    "    \"parameters\":  {}\n",
    "}' --verbose"
   ],
   "outputs": [],
   "execution_count": null
  },
  {
   "cell_type": "markdown",
   "id": "2450eccbe74d2037",
   "metadata": {},
   "source": [
    "### 2.2 通过HTTP调用应用(流式)\n",
    "以下示例展示通过CURL命令来调用应用，并通过流式的方式返回内容。\n",
    "注意: 需要使用您的API-KEY替换示例中的YOUR_API_KEY，并将APP-ID替换示例中的YOUR_APP_ID，代码才能正常运行。"
   ]
  },
  {
   "cell_type": "code",
   "id": "2f3f5485fb01a0ef",
   "metadata": {},
   "source": [
    "%%bash\n",
    "curl --location 'https://dashscope.aliyuncs.com/api/v1/apps/YOUR_APP_ID/completion' \\\n",
    "--header 'Authorization: Bearer YOUR_API_KEY' \\\n",
    "--header 'Content-Type: application/json' \\\n",
    "--header 'X-DashScope-SSE: enable' \\\n",
    "--data '{\n",
    "    \"input\": {\n",
    "        \"prompt\": \"如何做土豆炖猪脚?\"\n",
    "    },\n",
    "    \"parameters\":  {\n",
    "        \"incremental_output\": \"true\"\n",
    "    }\n",
    "}' --verbose"
   ],
   "outputs": [],
   "execution_count": null
  },
  {
   "cell_type": "markdown",
   "id": "36066e0c8db2072c",
   "metadata": {},
   "source": [
    "### 2.3 通过SDK调用应用\n",
    "注意: 需要使用您的API-KEY替换示例中的YOUR_API_KEY，并将APP-ID替换示例中的YOUR_APP_ID，代码才能正常运行。"
   ]
  },
  {
   "cell_type": "code",
   "id": "182f80876207bfa9",
   "metadata": {},
   "source": [
    "# 安装dashscope SDK。\n",
    "!pip3 install dashscope"
   ],
   "outputs": [],
   "execution_count": null
  },
  {
   "cell_type": "code",
   "id": "91f8d57dfcb961d6",
   "metadata": {},
   "source": [
    "# 通过环境变量设置API-KEY\n",
    "%env DASHSCOPE_API_KEY=YOUR_AP_KEY\n",
    "\n",
    "# 通过代码参数设置API-KEY\n",
    "# from dashscope import Application\n",
    "# Application.call(api_key='YOUR_API_KEY')"
   ],
   "outputs": [],
   "execution_count": null
  },
  {
   "cell_type": "code",
   "id": "2c6c3871d6bea994",
   "metadata": {},
   "source": [
    "from http import HTTPStatus\n",
    "from dashscope import Application\n",
    "\n",
    "\n",
    "def app_call():\n",
    "    response = Application.call(app_id='YOUR_APP_ID',\n",
    "                                prompt='API接口说明中, TopP参数改如何传递?',\n",
    "                                )\n",
    "\n",
    "    if response.status_code != HTTPStatus.OK:\n",
    "        print('request_id=%s, code=%s, message=%s\\n' % (response.request_id, response.status_code, response.message))\n",
    "    else:\n",
    "        print('request_id=%s\\n output=%s\\n usage=%s\\n' % (response.request_id, response.output, response.usage))\n",
    "\n",
    "\n",
    "if __name__ == '__main__':\n",
    "    app_call()"
   ],
   "outputs": [],
   "execution_count": null
  },
  {
   "cell_type": "markdown",
   "id": "6b69fd5a7f3eef9f",
   "metadata": {},
   "source": [
    "### 2.4 多轮对话\n",
    "阿里云百炼应用提供云端托管多轮对话功能，通过session_id进行多轮会话，阿里云百炼云端将自动托管多轮会话，调用侧无需自行维护多轮会话。\n",
    "\n",
    "下面的例子中，第一次调用后返回session_id，在第二次调用时，可以传入第一次返回的session_id，这样第二次调用模型服务时，将携带第一次调用的会话信息。\n",
    "\n",
    "说明: 目前session id会话有效期是1个小时，最大历史会话轮数为50。"
   ]
  },
  {
   "cell_type": "code",
   "id": "505f96e85e1758d4",
   "metadata": {},
   "source": [
    "from http import HTTPStatus\n",
    "from dashscope import Application\n",
    "\n",
    "\n",
    "def call_with_session():\n",
    "    response = Application.call(app_id='YOUR_APP_ID',\n",
    "                                prompt='我想去新疆',\n",
    "                                )\n",
    "\n",
    "    if response.status_code != HTTPStatus.OK:\n",
    "        print('request_id=%s, code=%s, message=%s\\n' % (response.request_id, response.status_code, response.message))\n",
    "        return\n",
    "\n",
    "    response = Application.call(app_id='YOUR_APP_ID',\n",
    "                                prompt='那边有什么旅游景点或者美食?',\n",
    "                                session_id=response.output.session_id\n",
    "                                )\n",
    "    if response.status_code != HTTPStatus.OK:\n",
    "        print('request_id=%s, code=%s, message=%s\\n' % (response.request_id, response.status_code, response.message))\n",
    "    else:\n",
    "        print('request_id=%s, output=%s, usage=%s\\n' % (response.request_id, response.output, response.usage))\n",
    "\n",
    "\n",
    "if __name__ == '__main__':\n",
    "    call_with_session()"
   ],
   "outputs": [],
   "execution_count": null
  },
  {
   "cell_type": "markdown",
   "id": "b71c27bc9e49812",
   "metadata": {},
   "source": [
    "### 2.5 流式输出\n",
    "流式输出需要添加对应参数`stream=True`。如果需要增量输出，需要设置`incremental_output=True`。\n",
    "\n"
   ]
  },
  {
   "cell_type": "code",
   "id": "6c59d4dd7dabfde2",
   "metadata": {},
   "source": [
    "from http import HTTPStatus\n",
    "from dashscope import Application\n",
    "\n",
    "\n",
    "def call_with_stream():\n",
    "    responses = Application.call(app_id='YOUR_APP_ID',\n",
    "                                 prompt='如何做炒西红柿鸡蛋？',\n",
    "                                 stream=True,\n",
    "                                 incremental_output=True\n",
    "                                 )\n",
    "\n",
    "    for response in responses:\n",
    "        if response.status_code != HTTPStatus.OK:\n",
    "            print('request_id=%s, code=%s, message=%s\\n' % (\n",
    "                response.request_id, response.status_code, response.message))\n",
    "        else:\n",
    "            print(response.output.text, end='')\n",
    "\n",
    "\n",
    "if __name__ == '__main__':\n",
    "    call_with_stream()"
   ],
   "outputs": [],
   "execution_count": null
  }
 ],
 "metadata": {
  "kernelspec": {
   "display_name": "Python 3 (ipykernel)",
   "language": "python",
   "name": "python3"
  },
  "language_info": {
   "codemirror_mode": {
    "name": "ipython",
    "version": 3
   },
   "file_extension": ".py",
   "mimetype": "text/x-python",
   "name": "python",
   "nbconvert_exporter": "python",
   "pygments_lexer": "ipython3",
   "version": "3.10.13"
  }
 },
 "nbformat": 4,
 "nbformat_minor": 5
}
