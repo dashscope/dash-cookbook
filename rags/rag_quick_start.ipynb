{
 "cells": [
  {
   "cell_type": "markdown",
   "id": "207157e1f8e0bfbc",
   "metadata": {},
   "source": [
    "# 低代码快速构建和调用RAG应用\n",
    "\n",
    "## 1. 简介\n",
    "本文主要介绍如何基于阿里云百炼的应用中心快速创建RAG应用，并通过API/SDK低代码方式调用RAG应用进行文档问答的最佳实践。\n",
    "\n",
    "### 1.1 功能依赖\n",
    "暂无\n",
    "\n",
    "### 1.2 前期准备\n",
    "* 已开通百炼服务：[开通阿里云百炼大模型服务产品](https://help.aliyun.com/document_detail/2586399.html?spm=a2c4g.2784257.0.i6)。\n",
    "* 已创建和获取API_KEY: [获取API-KEY](https://help.aliyun.com/document_detail/2712195.html)。\n",
    "\n",
    "## 2. 使用示例\n",
    "\n",
    "### 2.1 创建应用\n",
    "请参考文档在阿里云百炼控制台完成如下步骤:\n",
    "https://help.aliyun.com/document_detail/2784278.html?spm=a2c4g.2736368.0.0.3f50159aCx1pgh#f9dcc14e50ktr\n",
    "\n",
    "Step1: 导入数据\n",
    "Step2: 创建知识索引\n",
    "Step3: 创建应用"
   ]
  },
  {
   "cell_type": "markdown",
   "id": "48505a8cba30256c",
   "metadata": {},
   "source": "### 2.2 通过HTTP API调用应用"
  },
  {
   "cell_type": "code",
   "id": "2a672d6a46036da1",
   "metadata": {},
   "source": [
    "%%bash\n",
    "curl --location 'https://dashscope.aliyuncs.com/api/v1/apps/{YOUR_APP_ID}/completion' \\\n",
    "--header 'Authorization: Bearer {YOUR_API_KEY}' \\\n",
    "--header 'Content-Type: application/json' \\\n",
    "--data '{\n",
    "    \"input\": {\n",
    "        \"prompt\": \"百炼的业务空间是什么？如何使用业务空间?\"\n",
    "    },\n",
    "    \"parameters\":  {}\n",
    "}' --verbose"
   ],
   "outputs": [],
   "execution_count": null
  },
  {
   "cell_type": "markdown",
   "id": "35a4c45928ae99d7",
   "metadata": {},
   "source": [
    "##### 2.3 通过SDK调用应用\n",
    "调用应用前，需要安装dashscope，并且设置API-KEY等信息。"
   ]
  },
  {
   "cell_type": "code",
   "id": "6dc26118ad320557",
   "metadata": {},
   "source": "!pip3 install dashscope",
   "outputs": [],
   "execution_count": null
  },
  {
   "cell_type": "code",
   "id": "820a8dd4b03093cc",
   "metadata": {},
   "source": [
    "# 通过环境变量设置API-KEY\n",
    "%env DASHSCOPE_API_KEY=YOUR_API_KEY\n",
    "\n",
    "# 通过代码参数设置API-KEY\n",
    "# from dashscope import Application\n",
    "# Application.call(api_key='YOUR_API_KEY')"
   ],
   "outputs": [],
   "execution_count": null
  },
  {
   "cell_type": "code",
   "id": "27babe4de8d96f2f",
   "metadata": {},
   "source": [
    "from http import HTTPStatus\n",
    "from dashscope import Application\n",
    "\n",
    "\n",
    "def call_agent_app():\n",
    "    response = Application.call(app_id='YOUR_APP_ID',\n",
    "                                prompt='百炼的业务空间是什么？如何使用业务空间?'\n",
    "                                )\n",
    "\n",
    "    if response.status_code != HTTPStatus.OK:\n",
    "        print('request_id=%s, code=%s, message=%s\\n' % (response.request_id, response.status_code, response.message))\n",
    "    else:\n",
    "        print('request_id=%s\\n output=%s\\n usage=%s\\n' % (response.request_id, response.output, response.usage))\n",
    "\n",
    "\n",
    "if __name__ == '__main__':\n",
    "    call_agent_app()"
   ],
   "outputs": [],
   "execution_count": null
  }
 ],
 "metadata": {
  "kernelspec": {
   "display_name": "Python 3 (ipykernel)",
   "language": "python",
   "name": "python3"
  },
  "language_info": {
   "codemirror_mode": {
    "name": "ipython",
    "version": 3
   },
   "file_extension": ".py",
   "mimetype": "text/x-python",
   "name": "python",
   "nbconvert_exporter": "python",
   "pygments_lexer": "ipython3",
   "version": "3.11.7"
  }
 },
 "nbformat": 4,
 "nbformat_minor": 5
}
