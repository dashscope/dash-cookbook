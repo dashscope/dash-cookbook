{
 "cells": [
  {
   "metadata": {},
   "cell_type": "markdown",
   "source": [
    "# 基于LlamaIndex构建RAG应用\n",
    "\n",
    "## 1. 简介\n",
    "本文主要介绍如何在LlamaIndex中使用百炼提供的检索增强服务。\n",
    "\n",
    "### 1.1 功能依赖\n",
    "暂无\n",
    "\n",
    "### 1.2 前期准备\n",
    "* 已开通百炼服务：[开通阿里云百炼大模型服务产品](https://help.aliyun.com/document_detail/2586399.html?spm=a2c4g.2784257.0.i6)。\n",
    "* 已创建和获取API_KEY: [获取API-KEY](https://help.aliyun.com/document_detail/2712195.html)。\n",
    "\n",
    "## 2. 代码示例\n",
    "\n",
    "### 2.1 安装LlamaIndex依赖包"
   ],
   "id": "cb611613f66d9b7a"
  },
  {
   "metadata": {},
   "cell_type": "code",
   "outputs": [],
   "execution_count": null,
   "source": [
    "!pip install llama-index-core\n",
    "!pip install llama-index-llms-dashscope\n",
    "!pip install llama-index-indices-managed-dashscope"
   ],
   "id": "52561f957dd2d29b"
  },
  {
   "metadata": {},
   "cell_type": "markdown",
   "source": [
    "### 2.2 文件解析\n",
    "准备您的知识库文件，可以将所有文件放在一个文件夹中也可以是多个独立的文件。目前支持的文件格式是docx、doc、pdf。准备好之后，使用DashScopeParse进行解析。"
   ],
   "id": "16996115f802a700"
  },
  {
   "metadata": {},
   "cell_type": "code",
   "outputs": [],
   "execution_count": null,
   "source": [
    "import os\n",
    "\n",
    "from llama_index.readers.dashscope.base import DashScopeParse\n",
    "from llama_index.readers.dashscope.utils import ResultType\n",
    "\n",
    "os.environ['DASHSCOPE_API_KEY'] = \"<Your API Key>\"\n",
    "os.environ['DASHSCOPE_WORKSPACE_ID'] = \"<Your Workspace id, Default workspace is empty.>\"\n",
    "\n",
    "# 多个独立文件\n",
    "file = [\n",
    "    # 需要解析的文件，支持pdf,doc,docx\n",
    "]\n",
    "parse = DashScopeParse(result_type=ResultType.DASHSCOPE_DOCMIND)\n",
    "documents = parse.load_data(file_path=file)\n",
    "\n",
    "# 使用SimpleDirectoryReader读取文件夹下所有文件\n",
    "#from llama_index.core import SimpleDirectoryReader\n",
    "#parse = DashScopeParse(result_type=ResultType.DASHSCOPE_DOCMIND)\n",
    "#file_extractor = {\".pdf\": parse, '.doc': parse, '.docx': parse}\n",
    "#documents = SimpleDirectoryReader(\n",
    "#    \"your_folder\", file_extractor=file_extractor\n",
    "#).load_data(num_workers=1)"
   ],
   "id": "686bb907bafeb2c6"
  },
  {
   "metadata": {},
   "cell_type": "markdown",
   "source": [
    "### 2.3 创建索引\n",
    "通过上一步文档解析得到的documents创建知识库索引"
   ],
   "id": "242d3515ff3ac5f"
  },
  {
   "metadata": {},
   "cell_type": "code",
   "outputs": [],
   "execution_count": null,
   "source": [
    "from llama_index.indices.managed.dashscope import DashScopeCloudIndex\n",
    "\n",
    "# create a new index\n",
    "index = DashScopeCloudIndex.from_documents(\n",
    "    documents,\n",
    "    \"my_first_index\",\n",
    "    verbose=True,\n",
    ")"
   ],
   "id": "78223ee865335258"
  },
  {
   "metadata": {},
   "cell_type": "markdown",
   "source": [
    "### 2.4 读取索引\n",
    "您可以使用知识库名称在LlamaIndex中初始化您创建好的知识索引\n",
    "\n"
   ],
   "id": "d556951cb9270392"
  },
  {
   "metadata": {},
   "cell_type": "code",
   "outputs": [],
   "execution_count": null,
   "source": "my_index = DashScopeCloudIndex(\"my_first_index\")\n",
   "id": "3c292ed6676431a2"
  },
  {
   "metadata": {},
   "cell_type": "markdown",
   "source": [
    "### 2.5 获得retriever\n",
    "您可以从index对象中快速获得您的retriever，或者使用知识库名称初始化您的DashScopeCloudRetriever\n",
    "\n"
   ],
   "id": "521deaa3c0d4561c"
  },
  {
   "metadata": {},
   "cell_type": "code",
   "outputs": [],
   "execution_count": null,
   "source": [
    "# convert from index\n",
    "retriever = index.as_retriever()\n",
    "\n",
    "# or initialize from DashScopeCloudRetriever\n",
    "# from llama_index.indices.managed.dashscope.retriever import DashScopeCloudRetriever\n",
    "# retriever = DashScopeCloudRetriever(\"my_first_index\")\n",
    "\n",
    "nodes = retriever.retrieve(\"my query\")"
   ],
   "id": "d6a5d6b0520522b1"
  },
  {
   "metadata": {},
   "cell_type": "markdown",
   "source": "### 2.6 获得query engine",
   "id": "4940c4f30c45bda9"
  },
  {
   "metadata": {},
   "cell_type": "code",
   "outputs": [],
   "execution_count": null,
   "source": [
    "from llama_index.llms.dashscope import DashScope, DashScopeGenerationModels\n",
    "\n",
    "dashscope_llm = DashScope(\n",
    "  model_name=DashScopeGenerationModels.QWEN_MAX, api_key=os.environ[\"DASHSCOPE_API_KEY\"]\n",
    ")\n",
    "query_engine = index.as_query_engine(llm=dashscope_llm)"
   ],
   "id": "b63f4b9dadab6663"
  },
  {
   "metadata": {},
   "cell_type": "markdown",
   "source": "### 2.7 从索引新增/删除文档",
   "id": "ab742cfd348adfbf"
  },
  {
   "metadata": {},
   "cell_type": "code",
   "outputs": [],
   "execution_count": null,
   "source": [
    "# add documents to index\n",
    "index.insert(documents)\n",
    "\n",
    "# delete documents from index\n",
    "doc_id = \"doc_123\"\n",
    "index.delete_ref_doc([doc_id])"
   ],
   "id": "46af60de7843a834"
  }
 ],
 "metadata": {
  "kernelspec": {
   "display_name": "Python 3",
   "language": "python",
   "name": "python3"
  },
  "language_info": {
   "codemirror_mode": {
    "name": "ipython",
    "version": 2
   },
   "file_extension": ".py",
   "mimetype": "text/x-python",
   "name": "python",
   "nbconvert_exporter": "python",
   "pygments_lexer": "ipython2",
   "version": "2.7.6"
  }
 },
 "nbformat": 4,
 "nbformat_minor": 5
}
