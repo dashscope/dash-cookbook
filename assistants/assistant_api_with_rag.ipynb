{
 "cells": [
  {
   "cell_type": "markdown",
   "metadata": {
    "collapsed": true,
    "jupyter": {
     "outputs_hidden": true
    }
   },
   "source": [
    "# 最佳实践-百炼官方文档智能助手\n",
    "\n",
    "\n",
    "## 1. 简介\n",
    "本文介绍基于百炼平台，构建官方文档助手，结合知识库构建，Assistant API调用，实现全代码创建知识库场景的智能体应用。\n",
    "\n",
    "### 1.1. 依赖功能\n",
    "* Assistant API的基础API参数生成能力。\n",
    "* Assistant API的Function calling能力。\n",
    "\n",
    "### 1.2. 前期准备\n",
    "* 已开通百炼服务：[开通阿里云百炼大模型服务产品](https://help.aliyun.com/document_detail/2586399.html?spm=a2c4g.2784257.0.i6)。\n",
    "* 已创建API_KEY: [获取API-KEY](https://help.aliyun.com/document_detail/2712195.html)。\n",
    "* 已安装最新版SDK：[安装SDK](https://help.aliyun.com/document_detail/2712193.html)。\n",
    "\n",
    "## 2. 实现代码\n",
    "\n",
    "### 2.1. 设置环境变量\n",
    "安装环境依赖，设置您的API-KEY，替换YOUR_DASHSCOPE_API_KEY为您自己的API key。"
   ]
  },
  {
   "cell_type": "code",
   "metadata": {},
   "source": [
    "# 安装dashscope SDK。\n",
    "!pip3 install dashscope"
   ],
   "outputs": [],
   "execution_count": null
  },
  {
   "cell_type": "code",
   "metadata": {},
   "source": [
    "# 通过环境变量设置API-KEY\n",
    "%env DASHSCOPE_API_KEY=YOUR_API_KEY"
   ],
   "outputs": [],
   "execution_count": null
  },
  {
   "cell_type": "markdown",
   "metadata": {},
   "source": [
    "### 2.2. 创建知识库\n",
    "\n",
    "百炼平台支持管控台页面创建知识索引，以及以代码方式进行创建。\n",
    "以下代码示例兼容LlamaIndex SDK设计。"
   ]
  },
  {
   "cell_type": "code",
   "metadata": {
    "scrolled": true
   },
   "source": [
    "!pip install llama-index-core\n",
    "!pip install llama-index-llms-dashscope\n",
    "!pip install llama-index-readers-file\n",
    "!pip install llama-index-indices-managed-dashscope-custom"
   ],
   "outputs": [],
   "execution_count": null
  },
  {
   "cell_type": "code",
   "metadata": {},
   "source": [
    "import os\n",
    "from llama_index.readers.dashscope.base import DashScopeParse\n",
    "from llama_index.readers.dashscope.utils import ResultType\n",
    "from llama_index.indices.managed.dashscope import DashScopeCloudIndex, DashScopeCloudRetriever\n",
    "from llama_index.core import SimpleDirectoryReader\n",
    "from llama_index.llms.dashscope import DashScope, DashScopeGenerationModels\n",
    "from typing import cast\n",
    "from enum import Enum"
   ],
   "outputs": [],
   "execution_count": null
  },
  {
   "cell_type": "code",
   "metadata": {},
   "source": [
    "def ingest_data(file_folder: str, name: str, category_id=\"default\"):\n",
    "    # 本地文档上传，并完成文档解析，可以指定百炼数据中心的目录\n",
    "    parse = DashScopeParse(result_type=ResultType.DASHSCOPE_DOCMIND, category_id=category_id)\n",
    "    file_extractor = {\".pdf\": parse, '.doc': parse, '.docx': parse}\n",
    "    documents = SimpleDirectoryReader(\n",
    "        file_folder, file_extractor=file_extractor\n",
    "    ).load_data(num_workers=4)\n",
    "\n",
    "    # 构建知识索引，完成文档切分、向量化和入库操作\n",
    "    _ = DashScopeCloudIndex.from_documents(documents, name, verbose=True)\n",
    "    return documents"
   ],
   "outputs": [],
   "execution_count": null
  },
  {
   "cell_type": "code",
   "metadata": {},
   "source": [
    "class ReturnType(str, Enum):\n",
    "    STRING = \"str\"\n",
    "    NODE = \"node\"\n",
    "\n",
    "\n",
    "def retrieve_nodes(query: str, name: str, return_type: ReturnType = ReturnType.STRING):\n",
    "    \"\"\"\n",
    "    知识库检索函数\n",
    "    :param query: 用户Query \n",
    "    :param name: 百炼知识索引名称\n",
    "    :param return_type: 支持返回str或者LlamaIndex nodes\n",
    "    :return: \n",
    "    \"\"\"\n",
    "    def _format(doc_name=None, title=None, content=None, chunk_index=1):\n",
    "        return f\"[{chunk_index}] 【文档名】{doc_name}\\n 【标题】{title}\\n 【正文】{content}\"\n",
    "\n",
    "    index = DashScopeCloudIndex(name)\n",
    "    retriever = index.as_retriever(rerank_min_score=0.3)\n",
    "    retriever = cast(DashScopeCloudRetriever, retriever)\n",
    "    print(f\"Pipeline id {retriever.pipeline_id}\", flush=True)\n",
    "    nodes = retriever.retrieve(query)\n",
    "    if return_type == ReturnType.STRING:\n",
    "        context_str = \"\\n\\n\".join([_format(\n",
    "            doc_name=node.metadata[\"doc_name\"],\n",
    "            title=node.metadata[\"title\"],\n",
    "            content=node.get_content(),\n",
    "            chunk_index=index + 1\n",
    "        ) for index, node in enumerate(nodes)])\n",
    "        return context_str\n",
    "    else:\n",
    "        return nodes\n",
    "\n",
    "\n",
    "def query_rag(query: str, name: str):\n",
    "    \"\"\"\n",
    "    结合LLM，构造Query Engine，完成RAG完整链路\n",
    "    :param query: 用户Query \n",
    "    :param name: 百炼知识索引名称\n",
    "    :return: \n",
    "    \"\"\"\n",
    "    dashscope_llm = DashScope(\n",
    "        model_name=DashScopeGenerationModels.QWEN_MAX, api_key=os.environ[\"DASHSCOPE_API_KEY\"]\n",
    "    )\n",
    "    index = DashScopeCloudIndex(name)\n",
    "    query_engine = index.as_query_engine(llm=dashscope_llm)\n",
    "    response = query_engine.query(query)\n",
    "    return response"
   ],
   "outputs": [],
   "execution_count": null
  },
  {
   "cell_type": "code",
   "metadata": {
    "scrolled": true
   },
   "source": [
    "index_name = \"上海AI峰会-百炼文档助手\"\n",
    "\n",
    "\"\"\"Step 1: 百炼知识库数据导入\"\"\"\n",
    "docs = ingest_data(\n",
    "    \"/Users/towardsun/Documents/Project/Bailian/Demo\", index_name, \n",
    "    category_id=\"cate_ce28ea58687d4db599d974fe5cd7852010001\"\n",
    ")"
   ],
   "outputs": [],
   "execution_count": null
  },
  {
   "cell_type": "code",
   "metadata": {},
   "source": [
    "\"\"\"Step 2: 在线RA检索\"\"\"\n",
    "question = \"请问百炼平台如何部署模型\"\n",
    "resp = retrieve_nodes(question, name=index_name)\n",
    "print(f\"Retrieve result:\\nQuestion: {question}\\nResponse:\\n{resp}\")"
   ],
   "outputs": [],
   "execution_count": null
  },
  {
   "cell_type": "code",
   "metadata": {},
   "source": [
    "\"\"\"Step 3: 在线RAG完整链路\"\"\"\n",
    "resp = query_rag(question, name=index_name)\n",
    "print(f\"Query result:\\nQuestion: {question}\\nResponse:\\n{resp}\")"
   ],
   "outputs": [],
   "execution_count": null
  },
  {
   "cell_type": "markdown",
   "metadata": {},
   "source": [
    "### 2.3. 创建Assistant API\n",
    "\n",
    "自定义函数，以下示例包括知识库检索和获取百炼模型训练日志。"
   ]
  },
  {
   "cell_type": "code",
   "metadata": {},
   "source": [
    "import sys\n",
    "from dashscope import Assistants, Messages, Runs, Threads\n",
    "from llama_index.indices.managed.dashscope import DashScopeCloudIndex, DashScopeCloudRetriever\n",
    "from typing import cast\n",
    "import json\n",
    "from http import HTTPStatus"
   ],
   "outputs": [],
   "execution_count": null
  },
  {
   "cell_type": "code",
   "metadata": {},
   "source": [
    "def retrieve_nodes(rag_query: str):\n",
    "    \"\"\"\n",
    "    环境变量 INDEX_NAME为管控台知识库索引名称。\n",
    "    :param rag_query: 知识库查询\n",
    "    :return:\n",
    "    \"\"\"\n",
    "    index = DashScopeCloudIndex(\"上海AI峰会-百炼文档助手\")\n",
    "    retriever = index.as_retriever()\n",
    "    retriever = cast(DashScopeCloudRetriever, retriever)\n",
    "    print(f\"Pipeline id {retriever.pipeline_id}\", flush=True)\n",
    "    nodes = retriever.retrieve(rag_query)\n",
    "    return \"\\n\\n\".join([node.get_content() for node in nodes])\n",
    "\n",
    "\n",
    "def get_train_info(user_id):\n",
    "    \"\"\"\n",
    "    MOCK接口，进行代码测试；\n",
    "    :param user_id: 用户ID信息\n",
    "    :return:\n",
    "    \"\"\"\n",
    "    answer = f\"{user_id}\"\n",
    "    model_list = ['qwen-max-sft-v1']\n",
    "    for model in model_list:\n",
    "        answer += '\\nmodel_name: ' + model + '\\ntrain_acc ' + str(86.44) + ' \\n training time' + '21 hours 40 mintues'\n",
    "\n",
    "    return str(answer)\n",
    "\n",
    "\n",
    "function_mapper = {\n",
    "    \"retrieve_nodes\": retrieve_nodes,\n",
    "    \"get_train_info\": get_train_info\n",
    "}"
   ],
   "outputs": [],
   "execution_count": null
  },
  {
   "cell_type": "code",
   "metadata": {},
   "source": [
    "def create_assistant():\n",
    "    # create assistant with information\n",
    "    assistant = Assistants.create(\n",
    "        model=\"qwen-max\",\n",
    "        name='smart helper',\n",
    "        description='A tool helper.',\n",
    "        instructions='You are a helpful assistant. When asked a question, use tools wherever possible.',\n",
    "        tools=[\n",
    "            {\n",
    "                'type': 'quark_search'\n",
    "            },\n",
    "            {\n",
    "                'type': 'function',\n",
    "                'function': {\n",
    "                    'name': 'retrieve_nodes',\n",
    "                    'description': '用于获取与百炼平台相关的信息，包括模型训练、部署，应用搭建、API-KEY等',\n",
    "                    'parameters': {\n",
    "                        'type': 'object',\n",
    "                        'properties': {\n",
    "                            'rag_query': {\n",
    "                                'type': 'str',\n",
    "                                'description': '百炼相关问题'\n",
    "                            },\n",
    "                        },\n",
    "                        'required': ['rag_query']\n",
    "                    }\n",
    "                }\n",
    "            },\n",
    "            {\n",
    "                'type': 'function',\n",
    "                'function': {\n",
    "                    'name': 'get_train_info',\n",
    "                    'description': '用于获取用户部署在百炼平台上用数据额外训练的模型情况。包含SFT模型的具体情况',\n",
    "                    'parameters': {\n",
    "                        'type': 'object',\n",
    "                        'properties': {\n",
    "                            'user_id': {\n",
    "                                'type': 'str',\n",
    "                                'description': '用户id'\n",
    "                            },\n",
    "                        },\n",
    "                        'required': ['user_id']\n",
    "                    }\n",
    "                }\n",
    "            }\n",
    "        ],\n",
    "    )\n",
    "\n",
    "    if assistant.status_code != HTTPStatus.OK:\n",
    "        print('Create Assistant failed, status code: %s, code: %s, message: %s' % (\n",
    "            assistant.status_code, assistant.code, assistant.message))\n",
    "        sys.exit()\n",
    "    else:\n",
    "        print('Create Assistant success, id: %s' % assistant.id)\n",
    "\n",
    "    return assistant\n",
    "\n",
    "\n",
    "def create_message(thread_id, content):\n",
    "    message = Messages.create(thread_id, content=content)\n",
    "    if message.status_code != HTTPStatus.OK:\n",
    "        print('Create Message failed, status code: %s, code: %s, message: %s' % (\n",
    "            message.status_code, message.code, message.message))\n",
    "        sys.exit()\n",
    "    else:\n",
    "        print('Create Message success, id: %s' % message.id)\n",
    "    return message\n",
    "\n",
    "\n",
    "def create_thread():\n",
    "    thread = Threads.create()\n",
    "    # check result is success.\n",
    "    if thread.status_code != HTTPStatus.OK:\n",
    "        print('Create Thread failed, status code: %s, code: %s, message: %s' % (\n",
    "            thread.status_code, thread.code, thread.message))\n",
    "        sys.exit()\n",
    "    else:\n",
    "        print('Create Thread success, id: %s' % thread.id)\n",
    "    return thread\n",
    "\n",
    "\n",
    "def create_run(thread_id, assistant_id):\n",
    "    run = Runs.create(thread_id, assistant_id=assistant_id)\n",
    "    if run.status_code != HTTPStatus.OK:\n",
    "        print('Create Assistant failed, status code: %s, code: %s, message: %s' % (\n",
    "            run.status_code, run.code, run.message))\n",
    "    else:\n",
    "        print('Create Assistant success, id: %s' % run.id)\n",
    "    return run"
   ],
   "outputs": [],
   "execution_count": null
  },
  {
   "cell_type": "code",
   "metadata": {},
   "source": [
    "def send_message(assistant, message=''):\n",
    "    # create a thread.\n",
    "    thread = create_thread()\n",
    "\n",
    "    # create a message.\n",
    "    create_message(thread_id=thread.id, content=message)\n",
    "\n",
    "    # create run\n",
    "    response = Runs.create(thread.id, assistant_id=assistant.id, stream=True)\n",
    "    content_str = \"\"\n",
    "    for event, run in response:\n",
    "        if event == \"thread.message.delta\":\n",
    "            content_str += run.delta.content.text.value\n",
    "            print(content_str, flush=True)\n",
    "    print(run)\n",
    "\n",
    "    # wait for run completed or requires_action\n",
    "    run_status = Runs.wait(run.id, thread_id=thread.id)\n",
    "    print('插件调用前：')\n",
    "\n",
    "    if run_status.status == 'failed':\n",
    "        print('run failed:')\n",
    "        print(run_status.last_error)\n",
    "\n",
    "    # if prompt input tool result, submit tool result.\n",
    "    if run_status.required_action:\n",
    "        f = run_status.required_action.submit_tool_outputs.tool_calls[0].function\n",
    "        func_name = f['name']\n",
    "        param = json.loads(f['arguments'])\n",
    "        print(f\"Function name {func_name}, parameters {param}\")\n",
    "        if func_name in function_mapper:\n",
    "            output = function_mapper[func_name](**param)\n",
    "        else:\n",
    "            output = \"\"\n",
    "\n",
    "        tool_outputs = [{\n",
    "            'tool_call_id': run_status.required_action.submit_tool_outputs.tool_calls[0].id,\n",
    "            'output': output\n",
    "        }]\n",
    "\n",
    "        responses = Runs.submit_tool_outputs(run.id,\n",
    "                                             thread_id=thread.id,\n",
    "                                             tool_outputs=tool_outputs,\n",
    "                                             stream=True)\n",
    "        content_str = \"\"\n",
    "        for event, run in responses:\n",
    "            if event == \"thread.message.delta\":\n",
    "                content_str += run.delta.content.text.value\n",
    "                print(content_str, flush=True)\n",
    "\n",
    "        # should wait for run completed\n",
    "        run_status = Runs.wait(run.id, thread_id=thread.id)\n",
    "\n",
    "    run_status = Runs.get(run.id, thread_id=thread.id)\n",
    "    # print(run_status)\n",
    "    # verify_status_code(run_status)\n",
    "\n",
    "    # get the thread messages.\n",
    "    msgs = Messages.list(thread.id)\n",
    "    # print(msgs)\n",
    "    # print(json.dumps(msgs, default=lambda o: o.__dict__, sort_keys=True, indent=4))\n",
    "\n",
    "    print(\"运行结果:\")\n",
    "    for message in msgs['data'][::-1]:\n",
    "        print(\"content: \", message['content'][0]['text']['value'])\n",
    "    print(\"\\n\")"
   ],
   "outputs": [],
   "execution_count": null
  },
  {
   "cell_type": "code",
   "metadata": {},
   "source": [
    "demo_assistant = create_assistant()"
   ],
   "outputs": [],
   "execution_count": null
  },
  {
   "cell_type": "code",
   "metadata": {
    "scrolled": true
   },
   "source": [
    "send_message(assistant=demo_assistant, message=\"请一句话概括爱因斯坦的成就？\")"
   ],
   "outputs": [],
   "execution_count": null
  },
  {
   "cell_type": "code",
   "metadata": {
    "scrolled": true
   },
   "source": [
    "send_message(assistant=demo_assistant, message=\"请问如何获取API KEY？\")"
   ],
   "outputs": [],
   "execution_count": null
  },
  {
   "cell_type": "code",
   "metadata": {
    "scrolled": true
   },
   "source": [
    "send_message(assistant=demo_assistant, message=\"请问用户ID 114578的用户，模型训练结果如何？\")"
   ],
   "outputs": [],
   "execution_count": null
  },
  {
   "cell_type": "code",
   "metadata": {},
   "source": [],
   "outputs": [],
   "execution_count": null
  }
 ],
 "metadata": {
  "kernelspec": {
   "display_name": "Python 3 (ipykernel)",
   "language": "python",
   "name": "python3"
  },
  "language_info": {
   "codemirror_mode": {
    "name": "ipython",
    "version": 3
   },
   "file_extension": ".py",
   "mimetype": "text/x-python",
   "name": "python",
   "nbconvert_exporter": "python",
   "pygments_lexer": "ipython3",
   "version": "3.10.14"
  }
 },
 "nbformat": 4,
 "nbformat_minor": 4
}
