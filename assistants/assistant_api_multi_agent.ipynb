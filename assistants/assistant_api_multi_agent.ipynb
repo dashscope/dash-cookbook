{
 "cells": [
  {
   "cell_type": "markdown",
   "metadata": {
    "collapsed": true,
    "jupyter": {
     "outputs_hidden": true
    }
   },
   "source": [
    "# 最佳实践-基于Assistant API的Multi-Agent示例\n",
    "\n",
    "\n",
    "## 1. 简介\n",
    "本文介绍一个基于Assistant API构建的Multi-Agent应用，针对金融场景检索最新时事，并总结分析相关投资建议。\n",
    "在构建具体的Agent应用的过程中，用户可以自定义多种AgentModule类来完成一系列子任务，并根据需要实现复杂、灵活的应用编排。以下提供一种示范性的编排实例。\n",
    "\n",
    "### 1.1. 依赖功能\n",
    "* Assistant API的基础API参数生成能力。\n",
    "* Assistant API的Function calling能力。\n",
    "\n",
    "### 1.2. 前期准备\n",
    "* 已开通百炼服务：[开通阿里云百炼大模型服务产品](https://help.aliyun.com/document_detail/2586399.html?spm=a2c4g.2784257.0.i6)。\n",
    "* 已创建API_KEY: [获取API-KEY](https://help.aliyun.com/document_detail/2712195.html)。\n",
    "* 已安装最新版SDK：[安装SDK](https://help.aliyun.com/document_detail/2712193.html)。\n",
    "\n",
    "## 2. 实现代码\n",
    "\n",
    "### 2.1. 设置环境变量\n",
    "安装环境依赖，设置您的API-KEY，替换YOUR_DASHSCOPE_API_KEY为您自己的API key。"
   ]
  },
  {
   "cell_type": "code",
   "metadata": {},
   "source": [
    "# 安装dashscope SDK。\n",
    "!pip3 install dashscope"
   ],
   "outputs": [],
   "execution_count": null
  },
  {
   "cell_type": "code",
   "metadata": {},
   "source": [
    "# 通过环境变量设置API-KEY\n",
    "%env DASHSCOPE_API_KEY=YOUR_API_KEY"
   ],
   "outputs": [],
   "execution_count": null
  },
  {
   "cell_type": "markdown",
   "metadata": {},
   "source": [
    "### 2.2. 具体实现\n",
    "\n",
    "#### 2.2.1. Step 1: 创建Agent类\n",
    "\n",
    "首先，定义基类AgentModule，及其子类APIAssistantAgent，对各个API接口顺序实现封装。\n",
    "\n",
    "用户通过name、description、model、instructions以及tools、functions等参数创建APIAssistantAgent。\n",
    "\n",
    "用户通过functions参数为APIAssistantAgent传入function-call可能调用的函数实体，在APIAssistantAgent.query()中自动识别、调用函数并向AssistantAPI上传结果。"
   ]
  },
  {
   "cell_type": "code",
   "metadata": {},
   "source": [
    "from typing import Dict, List\n",
    "import json\n",
    "import dashscope\n",
    "from http import HTTPStatus\n",
    "import sys"
   ],
   "outputs": [],
   "execution_count": null
  },
  {
   "cell_type": "code",
   "metadata": {},
   "source": [
    "def verify_status_code(res):\n",
    "    if res.status_code != HTTPStatus.OK:\n",
    "        print('Failed: ')\n",
    "        print(res)\n",
    "        sys.exit(res.status_code)\n",
    "\n",
    "\n",
    "class AgentModule:\n",
    "    def __init__(self, name: str, description: str):\n",
    "        self.name = name\n",
    "        self.description = description\n",
    "\n",
    "    def __call__(self, query: str):\n",
    "        return self.query(query)\n",
    "\n",
    "    def query(self, query: str):\n",
    "        pass\n",
    "\n",
    "\n",
    "class APIAssistantAgent(AgentModule):\n",
    "    \"\"\"\n",
    "    Assistant with LLM capability, which is built with Assistant API.\n",
    "    \"\"\"\n",
    "\n",
    "    def __init__(self, name: str = \"\",\n",
    "                 description: str = \"\",\n",
    "                 model: str = \"\",\n",
    "                 instructions: str = \"\",\n",
    "                 tools: List = [],\n",
    "                 functions: Dict = {},\n",
    "                 assistant_id: str = None):\n",
    "        super().__init__(name, description)\n",
    "        # create a new assistant\n",
    "        if not assistant_id:\n",
    "            self.assistant = dashscope.Assistants.create(\n",
    "                model=model,\n",
    "                name=name,\n",
    "                description=description,\n",
    "                instructions=instructions,\n",
    "                tools=tools,\n",
    "            )\n",
    "            verify_status_code(self.assistant)\n",
    "        else:  # reload the assistant via id\n",
    "            self.assistant = dashscope.Assistants.retrieve(assistant_id=assistant_id)\n",
    "            self.name, self.description = self.assistant.name, self.assistant.description\n",
    "\n",
    "        self.assistant_id = self.assistant.id\n",
    "        self.funcs = functions\n",
    "        self.thread = dashscope.Threads.create()\n",
    "        verify_status_code(self.thread)\n",
    "\n",
    "    def _forward_and_submit_outputs(self, run_status):\n",
    "        \"\"\"get the function name, run and return the function output to the server\"\"\"\n",
    "        func_obj = run_status.required_action.submit_tool_outputs.tool_calls[0].function\n",
    "        func_name = func_obj.name\n",
    "        arguments = json.loads(func_obj.arguments)\n",
    "        tool_outputs = [{\n",
    "            'tool_call_id':\n",
    "                run_status.required_action.submit_tool_outputs.tool_calls[0].id,\n",
    "            'output': json.dumps(self.funcs[func_name](**arguments))\n",
    "        }]\n",
    "        responses = dashscope.Runs.submit_tool_outputs(run_status.id,\n",
    "                                                       thread_id=self.thread.id,\n",
    "                                                       tool_outputs=tool_outputs,\n",
    "                                                       stream=True)\n",
    "        content_str = \"\"\n",
    "        for event, run in responses:\n",
    "            if event == \"thread.message.delta\":\n",
    "                content_str += run.delta.content.text.value\n",
    "                print(content_str, flush=True)\n",
    "        return\n",
    "\n",
    "    def query(self, query: str):\n",
    "        \"\"\"\n",
    "        query: string, the query string to the assistant. e.g. Who is the Jack Chou ?\n",
    "        \"\"\"\n",
    "        message = dashscope.Messages.create(self.thread.id, content=query)\n",
    "        response = dashscope.Runs.create(self.thread.id, assistant_id=self.assistant.id, stream=True)\n",
    "\n",
    "        content_str = \"\"\n",
    "        for event, message_run in response:\n",
    "            if event == \"thread.message.delta\":\n",
    "                content_str += message_run.delta.content.text.value\n",
    "                print(content_str, flush=True)\n",
    "\n",
    "        run_status = dashscope.Runs.wait(message_run.id, thread_id=self.thread.id)\n",
    "        if run_status.required_action:\n",
    "            self._forward_and_submit_outputs(run_status)\n",
    "            run_status = dashscope.Runs.wait(run_status.id, thread_id=self.thread.id)\n",
    "\n",
    "        msgs = dashscope.Messages.list(self.thread.id)\n",
    "        answer = json.loads(json.dumps(msgs, default=lambda o: o.__dict__))['data'][0]['content'][0]['text']['value']\n",
    "        return answer\n"
   ],
   "outputs": [],
   "execution_count": null
  },
  {
   "cell_type": "markdown",
   "metadata": {},
   "source": [
    "#### 2.2.2. Step 2: 编排多个Agent实现特定应用\n",
    "\n",
    "用户可以将多个Agent进行编排，实现特定的应用。\n",
    "\n",
    "编排后的应用本身也作为一个Agent类，以供更上层的应用编排。\n",
    "\n",
    "以下提供一个智能财经助手的例子，通过顺序编排新闻检索专家与新闻分析专家来进行实现。"
   ]
  },
  {
   "cell_type": "code",
   "metadata": {},
   "source": [
    "class SequentialAgent(AgentModule):\n",
    "    \"\"\"\n",
    "    用于顺序编排的Agent Module\n",
    "    \"\"\"\n",
    "\n",
    "    def __init__(self, name: str, description: str, sequential: List, ):\n",
    "        \"\"\"\n",
    "        sequential: List[assistant_object or function]\n",
    "        \"\"\"\n",
    "        super().__init__(name, description)\n",
    "        self.sequential = sequential\n",
    "\n",
    "    def query(self, query: str):\n",
    "        msg = query\n",
    "        for node in self.sequential:\n",
    "            msg = node(msg)\n",
    "        return msg"
   ],
   "outputs": [],
   "execution_count": null
  },
  {
   "cell_type": "code",
   "metadata": {},
   "source": [
    "news_args = {\"name\": \"新闻检索专家\",\n",
    "             \"description\": \"新闻检索专家\",\n",
    "             \"instructions\": \"你是一个新闻检索专家。请根据用户提供的信息，适当使用工具查询与其相关的新闻资讯。请务必查询真实的新闻。\",\n",
    "             \"model\": \"qwen-max\",\n",
    "             \"tools\": [{\n",
    "                 'type': 'quark_search'\n",
    "             }]}\n",
    "news_assistant = APIAssistantAgent(**news_args)\n",
    "\n",
    "analytic_args = {\"name\": \"公司新闻分析专家\",\n",
    "                 \"description\": \"一个公司新闻分析专家\",\n",
    "                 \"instructions\": \"你是一个公司新闻分析专家，请根据用户提供的新闻，对相关公司进行分析并给出适当的详细的投资建议。\",\n",
    "                 \"model\": \"qwen-max\",\n",
    "                 }\n",
    "analytic_assistant = APIAssistantAgent(**analytic_args)\n",
    "\n",
    "finance_assistant = SequentialAgent(name=\"财经助手\", description=\"一个财经助手\",\n",
    "                                    sequential=[news_assistant, analytic_assistant])\n",
    "\n",
    "print(finance_assistant.name)\n",
    "print(finance_assistant(\"你对SpaceX怎么看?\"))"
   ],
   "outputs": [],
   "execution_count": null
  },
  {
   "cell_type": "code",
   "metadata": {},
   "source": [],
   "outputs": [],
   "execution_count": null
  }
 ],
 "metadata": {
  "kernelspec": {
   "display_name": "Python 3 (ipykernel)",
   "language": "python",
   "name": "python3"
  },
  "language_info": {
   "codemirror_mode": {
    "name": "ipython",
    "version": 3
   },
   "file_extension": ".py",
   "mimetype": "text/x-python",
   "name": "python",
   "nbconvert_exporter": "python",
   "pygments_lexer": "ipython3",
   "version": "3.10.14"
  }
 },
 "nbformat": 4,
 "nbformat_minor": 4
}
